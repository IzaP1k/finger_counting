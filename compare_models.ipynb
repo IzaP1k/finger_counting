{
 "cells": [
  {
   "cell_type": "markdown",
   "source": [
    "# Package"
   ],
   "metadata": {
    "collapsed": false
   },
   "id": "43b221cfd8728592"
  },
  {
   "cell_type": "code",
   "execution_count": 2,
   "id": "initial_id",
   "metadata": {
    "collapsed": true,
    "ExecuteTime": {
     "end_time": "2024-06-02T21:19:05.661220800Z",
     "start_time": "2024-06-02T21:18:42.843845100Z"
    }
   },
   "outputs": [
    {
     "name": "stdout",
     "output_type": "stream",
     "text": [
      "pygame 2.5.2 (SDL 2.28.3, Python 3.9.13)\n",
      "Hello from the pygame community. https://www.pygame.org/contribute.html\n"
     ]
    },
    {
     "name": "stderr",
     "output_type": "stream",
     "text": [
      "C:\\Users\\izaol\\PycharmProjects\\projektbigdata\\venv\\lib\\site-packages\\google\\protobuf\\symbol_database.py:55: UserWarning: SymbolDatabase.GetPrototype() is deprecated. Please use message_factory.GetMessageClass() instead. SymbolDatabase.GetPrototype() will be removed soon.\n",
      "  warnings.warn('SymbolDatabase.GetPrototype() is deprecated. Please '\n",
      "C:\\Users\\izaol\\PycharmProjects\\projektbigdata\\venv\\lib\\site-packages\\google\\protobuf\\symbol_database.py:55: UserWarning: SymbolDatabase.GetPrototype() is deprecated. Please use message_factory.GetMessageClass() instead. SymbolDatabase.GetPrototype() will be removed soon.\n",
      "  warnings.warn('SymbolDatabase.GetPrototype() is deprecated. Please '\n",
      "C:\\Users\\izaol\\PycharmProjects\\projektbigdata\\venv\\lib\\site-packages\\google\\protobuf\\symbol_database.py:55: UserWarning: SymbolDatabase.GetPrototype() is deprecated. Please use message_factory.GetMessageClass() instead. SymbolDatabase.GetPrototype() will be removed soon.\n",
      "  warnings.warn('SymbolDatabase.GetPrototype() is deprecated. Please '\n",
      "C:\\Users\\izaol\\PycharmProjects\\projektbigdata\\venv\\lib\\site-packages\\google\\protobuf\\symbol_database.py:55: UserWarning: SymbolDatabase.GetPrototype() is deprecated. Please use message_factory.GetMessageClass() instead. SymbolDatabase.GetPrototype() will be removed soon.\n",
      "  warnings.warn('SymbolDatabase.GetPrototype() is deprecated. Please '\n",
      "C:\\Users\\izaol\\PycharmProjects\\projektbigdata\\venv\\lib\\site-packages\\google\\protobuf\\symbol_database.py:55: UserWarning: SymbolDatabase.GetPrototype() is deprecated. Please use message_factory.GetMessageClass() instead. SymbolDatabase.GetPrototype() will be removed soon.\n",
      "  warnings.warn('SymbolDatabase.GetPrototype() is deprecated. Please '\n",
      "C:\\Users\\izaol\\PycharmProjects\\projektbigdata\\venv\\lib\\site-packages\\google\\protobuf\\symbol_database.py:55: UserWarning: SymbolDatabase.GetPrototype() is deprecated. Please use message_factory.GetMessageClass() instead. SymbolDatabase.GetPrototype() will be removed soon.\n",
      "  warnings.warn('SymbolDatabase.GetPrototype() is deprecated. Please '\n",
      "C:\\Users\\izaol\\PycharmProjects\\projektbigdata\\venv\\lib\\site-packages\\google\\protobuf\\symbol_database.py:55: UserWarning: SymbolDatabase.GetPrototype() is deprecated. Please use message_factory.GetMessageClass() instead. SymbolDatabase.GetPrototype() will be removed soon.\n",
      "  warnings.warn('SymbolDatabase.GetPrototype() is deprecated. Please '\n",
      "C:\\Users\\izaol\\PycharmProjects\\projektbigdata\\venv\\lib\\site-packages\\google\\protobuf\\symbol_database.py:55: UserWarning: SymbolDatabase.GetPrototype() is deprecated. Please use message_factory.GetMessageClass() instead. SymbolDatabase.GetPrototype() will be removed soon.\n",
      "  warnings.warn('SymbolDatabase.GetPrototype() is deprecated. Please '\n",
      "C:\\Users\\izaol\\PycharmProjects\\projektbigdata\\venv\\lib\\site-packages\\google\\protobuf\\symbol_database.py:55: UserWarning: SymbolDatabase.GetPrototype() is deprecated. Please use message_factory.GetMessageClass() instead. SymbolDatabase.GetPrototype() will be removed soon.\n",
      "  warnings.warn('SymbolDatabase.GetPrototype() is deprecated. Please '\n",
      "C:\\Users\\izaol\\PycharmProjects\\projektbigdata\\venv\\lib\\site-packages\\google\\protobuf\\symbol_database.py:55: UserWarning: SymbolDatabase.GetPrototype() is deprecated. Please use message_factory.GetMessageClass() instead. SymbolDatabase.GetPrototype() will be removed soon.\n",
      "  warnings.warn('SymbolDatabase.GetPrototype() is deprecated. Please '\n",
      "C:\\Users\\izaol\\PycharmProjects\\projektbigdata\\venv\\lib\\site-packages\\google\\protobuf\\symbol_database.py:55: UserWarning: SymbolDatabase.GetPrototype() is deprecated. Please use message_factory.GetMessageClass() instead. SymbolDatabase.GetPrototype() will be removed soon.\n",
      "  warnings.warn('SymbolDatabase.GetPrototype() is deprecated. Please '\n",
      "C:\\Users\\izaol\\PycharmProjects\\projektbigdata\\venv\\lib\\site-packages\\google\\protobuf\\symbol_database.py:55: UserWarning: SymbolDatabase.GetPrototype() is deprecated. Please use message_factory.GetMessageClass() instead. SymbolDatabase.GetPrototype() will be removed soon.\n",
      "  warnings.warn('SymbolDatabase.GetPrototype() is deprecated. Please '\n",
      "C:\\Users\\izaol\\PycharmProjects\\projektbigdata\\venv\\lib\\site-packages\\google\\protobuf\\symbol_database.py:55: UserWarning: SymbolDatabase.GetPrototype() is deprecated. Please use message_factory.GetMessageClass() instead. SymbolDatabase.GetPrototype() will be removed soon.\n",
      "  warnings.warn('SymbolDatabase.GetPrototype() is deprecated. Please '\n",
      "C:\\Users\\izaol\\PycharmProjects\\projektbigdata\\venv\\lib\\site-packages\\google\\protobuf\\symbol_database.py:55: UserWarning: SymbolDatabase.GetPrototype() is deprecated. Please use message_factory.GetMessageClass() instead. SymbolDatabase.GetPrototype() will be removed soon.\n",
      "  warnings.warn('SymbolDatabase.GetPrototype() is deprecated. Please '\n",
      "C:\\Users\\izaol\\PycharmProjects\\projektbigdata\\venv\\lib\\site-packages\\google\\protobuf\\symbol_database.py:55: UserWarning: SymbolDatabase.GetPrototype() is deprecated. Please use message_factory.GetMessageClass() instead. SymbolDatabase.GetPrototype() will be removed soon.\n",
      "  warnings.warn('SymbolDatabase.GetPrototype() is deprecated. Please '\n",
      "C:\\Users\\izaol\\PycharmProjects\\projektbigdata\\venv\\lib\\site-packages\\google\\protobuf\\symbol_database.py:55: UserWarning: SymbolDatabase.GetPrototype() is deprecated. Please use message_factory.GetMessageClass() instead. SymbolDatabase.GetPrototype() will be removed soon.\n",
      "  warnings.warn('SymbolDatabase.GetPrototype() is deprecated. Please '\n",
      "C:\\Users\\izaol\\PycharmProjects\\projektbigdata\\venv\\lib\\site-packages\\google\\protobuf\\symbol_database.py:55: UserWarning: SymbolDatabase.GetPrototype() is deprecated. Please use message_factory.GetMessageClass() instead. SymbolDatabase.GetPrototype() will be removed soon.\n",
      "  warnings.warn('SymbolDatabase.GetPrototype() is deprecated. Please '\n",
      "C:\\Users\\izaol\\PycharmProjects\\projektbigdata\\venv\\lib\\site-packages\\google\\protobuf\\symbol_database.py:55: UserWarning: SymbolDatabase.GetPrototype() is deprecated. Please use message_factory.GetMessageClass() instead. SymbolDatabase.GetPrototype() will be removed soon.\n",
      "  warnings.warn('SymbolDatabase.GetPrototype() is deprecated. Please '\n",
      "C:\\Users\\izaol\\PycharmProjects\\projektbigdata\\venv\\lib\\site-packages\\google\\protobuf\\symbol_database.py:55: UserWarning: SymbolDatabase.GetPrototype() is deprecated. Please use message_factory.GetMessageClass() instead. SymbolDatabase.GetPrototype() will be removed soon.\n",
      "  warnings.warn('SymbolDatabase.GetPrototype() is deprecated. Please '\n",
      "C:\\Users\\izaol\\PycharmProjects\\projektbigdata\\venv\\lib\\site-packages\\google\\protobuf\\symbol_database.py:55: UserWarning: SymbolDatabase.GetPrototype() is deprecated. Please use message_factory.GetMessageClass() instead. SymbolDatabase.GetPrototype() will be removed soon.\n",
      "  warnings.warn('SymbolDatabase.GetPrototype() is deprecated. Please '\n",
      "C:\\Users\\izaol\\PycharmProjects\\projektbigdata\\venv\\lib\\site-packages\\google\\protobuf\\symbol_database.py:55: UserWarning: SymbolDatabase.GetPrototype() is deprecated. Please use message_factory.GetMessageClass() instead. SymbolDatabase.GetPrototype() will be removed soon.\n",
      "  warnings.warn('SymbolDatabase.GetPrototype() is deprecated. Please '\n"
     ]
    }
   ],
   "source": [
    "from hand_func import get_points, handDetector, cut_image_to_rectangle, create_square, small_square\n",
    "from data_func import clean_Nan_value, get_grayscale, laplace_opencv, show_filtered_data, hog_apply, one_hot_encoding\n",
    "from tensor_data import count_tensor_data, prepare_image, get_answer\n",
    "from count_fingers_cnn import Simple_CNN, train, Advanced_CNN, show_comparision, predict_result\n",
    "from sklearn.metrics import f1_score, confusion_matrix\n",
    "from model_prediction import count_results\n",
    "import pandas as pd\n",
    "import os\n",
    "import cv2\n",
    "import torch\n",
    "from joblib import dump, load\n",
    "import numpy as np\n",
    "from PIL import Image\n",
    "import os\n",
    "import time\n",
    "from camera_prediction import count_result\n",
    "from model_prediction import count_acc, compare_time\n",
    "import matplotlib.pyplot as plt"
   ]
  },
  {
   "cell_type": "code",
   "execution_count": 3,
   "outputs": [
    {
     "name": "stdout",
     "output_type": "stream",
     "text": [
      "The autoreload extension is already loaded. To reload it, use:\n",
      "  %reload_ext autoreload\n"
     ]
    }
   ],
   "source": [
    "%load_ext autoreload\n",
    "%autoreload 2\n",
    "%load_ext autoreload\n",
    "%autoreload 2"
   ],
   "metadata": {
    "collapsed": false,
    "ExecuteTime": {
     "end_time": "2024-06-02T21:19:05.923720300Z",
     "start_time": "2024-06-02T21:19:05.667210200Z"
    }
   },
   "id": "7224b785a21371d2"
  },
  {
   "cell_type": "markdown",
   "source": [
    "# Load models "
   ],
   "metadata": {
    "collapsed": false
   },
   "id": "15a1e2e6c4d42892"
  },
  {
   "cell_type": "code",
   "execution_count": 4,
   "outputs": [],
   "source": [
    "s_h_model = Simple_CNN()\n",
    "s_h_model.load_state_dict(torch.load('Simple-HoG-model.pt'))\n",
    "\n",
    "a_g_model = Advanced_CNN()\n",
    "a_g_model.load_state_dict(torch.load('A-gray-model.pt'))\n",
    "\n",
    "a_h_model = Advanced_CNN()\n",
    "a_h_model.load_state_dict(torch.load('A-HoG-model.pt'))\n",
    "\n",
    "a_l_model = Advanced_CNN()\n",
    "a_l_model.load_state_dict(torch.load('A-LoG-model.pt'))\n",
    "\n",
    "svm_model = load('SVC()-model.joblib')"
   ],
   "metadata": {
    "collapsed": false,
    "ExecuteTime": {
     "end_time": "2024-06-02T21:19:06.180684800Z",
     "start_time": "2024-06-02T21:19:05.915742100Z"
    }
   },
   "id": "4bbde9fbcda24215"
  },
  {
   "cell_type": "markdown",
   "source": [
    "# Test dataset"
   ],
   "metadata": {
    "collapsed": false
   },
   "id": "9adacfb7998dbafa"
  },
  {
   "cell_type": "markdown",
   "source": [
    "Models will be tested on unknown data how long take them to learn"
   ],
   "metadata": {
    "collapsed": false
   },
   "id": "e1a6c8b14957ef2f"
  },
  {
   "cell_type": "code",
   "execution_count": 5,
   "outputs": [],
   "source": [
    "data = pd.read_csv(r'test\\_annotations.csv')\n",
    "\n",
    "folder_path = r'test'\n",
    "\n",
    "def load_image(file_name):\n",
    "    image_path = os.path.join(folder_path, file_name)\n",
    "    image = cv2.imread(image_path)\n",
    "    return image\n",
    "\n",
    "data['image'] = data['filename'].apply(load_image)"
   ],
   "metadata": {
    "collapsed": false,
    "ExecuteTime": {
     "end_time": "2024-06-02T21:20:43.991533600Z",
     "start_time": "2024-06-02T21:20:41.863392700Z"
    }
   },
   "id": "57149765e6523271"
  },
  {
   "cell_type": "code",
   "execution_count": 6,
   "outputs": [],
   "source": [
    "data = data.dropna(subset=['image'])"
   ],
   "metadata": {
    "collapsed": false,
    "ExecuteTime": {
     "end_time": "2024-06-02T21:20:44.253864500Z",
     "start_time": "2024-06-02T21:20:43.993560100Z"
    }
   },
   "id": "4baf17d6b7c00a55"
  },
  {
   "cell_type": "markdown",
   "source": [
    "# Create points"
   ],
   "metadata": {
    "collapsed": false
   },
   "id": "23cb2aa85cfc85da"
  },
  {
   "cell_type": "code",
   "execution_count": 7,
   "outputs": [
    {
     "name": "stderr",
     "output_type": "stream",
     "text": [
      "C:\\Users\\izaol\\PycharmProjects\\projektbigdata\\venv\\lib\\site-packages\\google\\protobuf\\symbol_database.py:55: UserWarning: SymbolDatabase.GetPrototype() is deprecated. Please use message_factory.GetMessageClass() instead. SymbolDatabase.GetPrototype() will be removed soon.\n",
      "  warnings.warn('SymbolDatabase.GetPrototype() is deprecated. Please '\n",
      "C:\\Users\\izaol\\PycharmProjects\\projektbigdata\\venv\\lib\\site-packages\\google\\protobuf\\symbol_database.py:55: UserWarning: SymbolDatabase.GetPrototype() is deprecated. Please use message_factory.GetMessageClass() instead. SymbolDatabase.GetPrototype() will be removed soon.\n",
      "  warnings.warn('SymbolDatabase.GetPrototype() is deprecated. Please '\n"
     ]
    }
   ],
   "source": [
    "detector = handDetector()\n",
    "\n",
    "data['rectangle'] = data['image'].apply(lambda img: cut_image_to_rectangle(img, detector))\n",
    "data['points'] = data['image'].apply(lambda img: get_points(detector, img))"
   ],
   "metadata": {
    "collapsed": false,
    "ExecuteTime": {
     "end_time": "2024-06-02T21:21:59.516839500Z",
     "start_time": "2024-06-02T21:21:18.966074600Z"
    }
   },
   "id": "fdb2e54a97deb7f4"
  },
  {
   "cell_type": "code",
   "execution_count": 8,
   "outputs": [
    {
     "name": "stderr",
     "output_type": "stream",
     "text": [
      "C:\\Users\\izaol\\PycharmProjects\\projektbigdata\\data_func.py:22: SettingWithCopyWarning: \n",
      "A value is trying to be set on a copy of a slice from a DataFrame.\n",
      "Try using .loc[row_indexer,col_indexer] = value instead\n",
      "\n",
      "See the caveats in the documentation: https://pandas.pydata.org/pandas-docs/stable/user_guide/indexing.html#returning-a-view-versus-a-copy\n",
      "  data['rectangle'] = data['rectangle'].apply(lambda x: np.nan if len(x) == 0 else x)\n"
     ]
    }
   ],
   "source": [
    "data = clean_Nan_value(data)"
   ],
   "metadata": {
    "collapsed": false,
    "ExecuteTime": {
     "end_time": "2024-06-02T21:21:59.788045600Z",
     "start_time": "2024-06-02T21:21:59.522859800Z"
    }
   },
   "id": "de0c0164fa46b68"
  },
  {
   "cell_type": "code",
   "execution_count": 9,
   "outputs": [],
   "source": [
    "data = data.dropna(subset=['rectangle'])"
   ],
   "metadata": {
    "collapsed": false,
    "ExecuteTime": {
     "end_time": "2024-06-02T21:22:00.038000700Z",
     "start_time": "2024-06-02T21:21:59.787049700Z"
    }
   },
   "id": "a2422f1beab56cec"
  },
  {
   "cell_type": "markdown",
   "source": [
    "# CNN"
   ],
   "metadata": {
    "collapsed": false
   },
   "id": "bde26fc43d9a146e"
  },
  {
   "cell_type": "markdown",
   "source": [
    "That function will test 20 times models on unknown data to check mean time"
   ],
   "metadata": {
    "collapsed": false
   },
   "id": "f560ef8b2e2a0e8d"
  },
  {
   "cell_type": "code",
   "execution_count": 11,
   "outputs": [
    {
     "name": "stderr",
     "output_type": "stream",
     "text": [
      "C:\\Users\\izaol\\PycharmProjects\\projektbigdata\\tensor_data.py:138: SettingWithCopyWarning: \n",
      "A value is trying to be set on a copy of a slice from a DataFrame.\n",
      "Try using .loc[row_indexer,col_indexer] = value instead\n",
      "\n",
      "See the caveats in the documentation: https://pandas.pydata.org/pandas-docs/stable/user_guide/indexing.html#returning-a-view-versus-a-copy\n",
      "  data['image'] = data['image'].apply(small_square)\n",
      "C:\\Users\\izaol\\PycharmProjects\\projektbigdata\\tensor_data.py:139: SettingWithCopyWarning: \n",
      "A value is trying to be set on a copy of a slice from a DataFrame.\n",
      "Try using .loc[row_indexer,col_indexer] = value instead\n",
      "\n",
      "See the caveats in the documentation: https://pandas.pydata.org/pandas-docs/stable/user_guide/indexing.html#returning-a-view-versus-a-copy\n",
      "  data['image'] = data['image'].apply(filter)\n",
      "C:\\Users\\izaol\\PycharmProjects\\projektbigdata\\tensor_data.py:132: SettingWithCopyWarning: \n",
      "A value is trying to be set on a copy of a slice from a DataFrame.\n",
      "Try using .loc[row_indexer,col_indexer] = value instead\n",
      "\n",
      "See the caveats in the documentation: https://pandas.pydata.org/pandas-docs/stable/user_guide/indexing.html#returning-a-view-versus-a-copy\n",
      "  data['image'] = data['rectangle'].apply(create_square)\n",
      "C:\\Users\\izaol\\PycharmProjects\\projektbigdata\\tensor_data.py:138: SettingWithCopyWarning: \n",
      "A value is trying to be set on a copy of a slice from a DataFrame.\n",
      "Try using .loc[row_indexer,col_indexer] = value instead\n",
      "\n",
      "See the caveats in the documentation: https://pandas.pydata.org/pandas-docs/stable/user_guide/indexing.html#returning-a-view-versus-a-copy\n",
      "  data['image'] = data['image'].apply(small_square)\n",
      "C:\\Users\\izaol\\PycharmProjects\\projektbigdata\\tensor_data.py:139: SettingWithCopyWarning: \n",
      "A value is trying to be set on a copy of a slice from a DataFrame.\n",
      "Try using .loc[row_indexer,col_indexer] = value instead\n",
      "\n",
      "See the caveats in the documentation: https://pandas.pydata.org/pandas-docs/stable/user_guide/indexing.html#returning-a-view-versus-a-copy\n",
      "  data['image'] = data['image'].apply(filter)\n",
      "C:\\Users\\izaol\\PycharmProjects\\projektbigdata\\tensor_data.py:132: SettingWithCopyWarning: \n",
      "A value is trying to be set on a copy of a slice from a DataFrame.\n",
      "Try using .loc[row_indexer,col_indexer] = value instead\n",
      "\n",
      "See the caveats in the documentation: https://pandas.pydata.org/pandas-docs/stable/user_guide/indexing.html#returning-a-view-versus-a-copy\n",
      "  data['image'] = data['rectangle'].apply(create_square)\n",
      "C:\\Users\\izaol\\PycharmProjects\\projektbigdata\\tensor_data.py:138: SettingWithCopyWarning: \n",
      "A value is trying to be set on a copy of a slice from a DataFrame.\n",
      "Try using .loc[row_indexer,col_indexer] = value instead\n",
      "\n",
      "See the caveats in the documentation: https://pandas.pydata.org/pandas-docs/stable/user_guide/indexing.html#returning-a-view-versus-a-copy\n",
      "  data['image'] = data['image'].apply(small_square)\n",
      "C:\\Users\\izaol\\PycharmProjects\\projektbigdata\\tensor_data.py:139: SettingWithCopyWarning: \n",
      "A value is trying to be set on a copy of a slice from a DataFrame.\n",
      "Try using .loc[row_indexer,col_indexer] = value instead\n",
      "\n",
      "See the caveats in the documentation: https://pandas.pydata.org/pandas-docs/stable/user_guide/indexing.html#returning-a-view-versus-a-copy\n",
      "  data['image'] = data['image'].apply(filter)\n",
      "C:\\Users\\izaol\\PycharmProjects\\projektbigdata\\tensor_data.py:132: SettingWithCopyWarning: \n",
      "A value is trying to be set on a copy of a slice from a DataFrame.\n",
      "Try using .loc[row_indexer,col_indexer] = value instead\n",
      "\n",
      "See the caveats in the documentation: https://pandas.pydata.org/pandas-docs/stable/user_guide/indexing.html#returning-a-view-versus-a-copy\n",
      "  data['image'] = data['rectangle'].apply(create_square)\n",
      "C:\\Users\\izaol\\PycharmProjects\\projektbigdata\\tensor_data.py:138: SettingWithCopyWarning: \n",
      "A value is trying to be set on a copy of a slice from a DataFrame.\n",
      "Try using .loc[row_indexer,col_indexer] = value instead\n",
      "\n",
      "See the caveats in the documentation: https://pandas.pydata.org/pandas-docs/stable/user_guide/indexing.html#returning-a-view-versus-a-copy\n",
      "  data['image'] = data['image'].apply(small_square)\n",
      "C:\\Users\\izaol\\PycharmProjects\\projektbigdata\\tensor_data.py:139: SettingWithCopyWarning: \n",
      "A value is trying to be set on a copy of a slice from a DataFrame.\n",
      "Try using .loc[row_indexer,col_indexer] = value instead\n",
      "\n",
      "See the caveats in the documentation: https://pandas.pydata.org/pandas-docs/stable/user_guide/indexing.html#returning-a-view-versus-a-copy\n",
      "  data['image'] = data['image'].apply(filter)\n",
      "C:\\Users\\izaol\\PycharmProjects\\projektbigdata\\tensor_data.py:132: SettingWithCopyWarning: \n",
      "A value is trying to be set on a copy of a slice from a DataFrame.\n",
      "Try using .loc[row_indexer,col_indexer] = value instead\n",
      "\n",
      "See the caveats in the documentation: https://pandas.pydata.org/pandas-docs/stable/user_guide/indexing.html#returning-a-view-versus-a-copy\n",
      "  data['image'] = data['rectangle'].apply(create_square)\n"
     ]
    }
   ],
   "source": [
    "list_time_sh, time_sum_sh = compare_time(data, s_h_model, hog_apply)\n",
    "list_time_ah, time_sum_ah = compare_time(data, a_h_model, hog_apply)\n",
    "list_time_al, time_sum_al = compare_time(data, a_l_model, laplace_opencv)\n",
    "list_time_ag, time_sum_ag = compare_time(data, a_g_model, get_grayscale)"
   ],
   "metadata": {
    "collapsed": false,
    "ExecuteTime": {
     "end_time": "2024-06-02T13:51:54.691188Z",
     "start_time": "2024-06-02T13:44:35.931358600Z"
    }
   },
   "id": "e90b4f623a12311c"
  },
  {
   "cell_type": "markdown",
   "source": [
    "# SVM"
   ],
   "metadata": {
    "collapsed": false
   },
   "id": "30ccea7abee1d37a"
  },
  {
   "cell_type": "markdown",
   "source": [
    "Counting time for SVM model"
   ],
   "metadata": {
    "collapsed": false
   },
   "id": "6b08e8f516f70e7f"
  },
  {
   "cell_type": "code",
   "execution_count": 12,
   "outputs": [
    {
     "name": "stderr",
     "output_type": "stream",
     "text": [
      "C:\\Users\\izaol\\PycharmProjects\\projektbigdata\\camera_prediction.py:217: SettingWithCopyWarning: \n",
      "A value is trying to be set on a copy of a slice from a DataFrame.\n",
      "Try using .loc[row_indexer,col_indexer] = value instead\n",
      "\n",
      "See the caveats in the documentation: https://pandas.pydata.org/pandas-docs/stable/user_guide/indexing.html#returning-a-view-versus-a-copy\n",
      "  fingers_data[angle_columns] = normalized_angles\n",
      "C:\\Users\\izaol\\PycharmProjects\\projektbigdata\\camera_prediction.py:218: SettingWithCopyWarning: \n",
      "A value is trying to be set on a copy of a slice from a DataFrame.\n",
      "Try using .loc[row_indexer,col_indexer] = value instead\n",
      "\n",
      "See the caveats in the documentation: https://pandas.pydata.org/pandas-docs/stable/user_guide/indexing.html#returning-a-view-versus-a-copy\n",
      "  fingers_data[distance_columns] = normalized_distances\n",
      "C:\\Users\\izaol\\PycharmProjects\\projektbigdata\\camera_prediction.py:219: SettingWithCopyWarning: \n",
      "A value is trying to be set on a copy of a slice from a DataFrame.\n",
      "Try using .loc[row_indexer,col_indexer] = value instead\n",
      "\n",
      "See the caveats in the documentation: https://pandas.pydata.org/pandas-docs/stable/user_guide/indexing.html#returning-a-view-versus-a-copy\n",
      "  fingers_data[place_columns] = normalized_place\n",
      "C:\\Users\\izaol\\PycharmProjects\\projektbigdata\\camera_prediction.py:217: SettingWithCopyWarning: \n",
      "A value is trying to be set on a copy of a slice from a DataFrame.\n",
      "Try using .loc[row_indexer,col_indexer] = value instead\n",
      "\n",
      "See the caveats in the documentation: https://pandas.pydata.org/pandas-docs/stable/user_guide/indexing.html#returning-a-view-versus-a-copy\n",
      "  fingers_data[angle_columns] = normalized_angles\n",
      "C:\\Users\\izaol\\PycharmProjects\\projektbigdata\\camera_prediction.py:218: SettingWithCopyWarning: \n",
      "A value is trying to be set on a copy of a slice from a DataFrame.\n",
      "Try using .loc[row_indexer,col_indexer] = value instead\n",
      "\n",
      "See the caveats in the documentation: https://pandas.pydata.org/pandas-docs/stable/user_guide/indexing.html#returning-a-view-versus-a-copy\n",
      "  fingers_data[distance_columns] = normalized_distances\n",
      "C:\\Users\\izaol\\PycharmProjects\\projektbigdata\\camera_prediction.py:219: SettingWithCopyWarning: \n",
      "A value is trying to be set on a copy of a slice from a DataFrame.\n",
      "Try using .loc[row_indexer,col_indexer] = value instead\n",
      "\n",
      "See the caveats in the documentation: https://pandas.pydata.org/pandas-docs/stable/user_guide/indexing.html#returning-a-view-versus-a-copy\n",
      "  fingers_data[place_columns] = normalized_place\n",
      "C:\\Users\\izaol\\PycharmProjects\\projektbigdata\\camera_prediction.py:217: SettingWithCopyWarning: \n",
      "A value is trying to be set on a copy of a slice from a DataFrame.\n",
      "Try using .loc[row_indexer,col_indexer] = value instead\n",
      "\n",
      "See the caveats in the documentation: https://pandas.pydata.org/pandas-docs/stable/user_guide/indexing.html#returning-a-view-versus-a-copy\n",
      "  fingers_data[angle_columns] = normalized_angles\n",
      "C:\\Users\\izaol\\PycharmProjects\\projektbigdata\\camera_prediction.py:218: SettingWithCopyWarning: \n",
      "A value is trying to be set on a copy of a slice from a DataFrame.\n",
      "Try using .loc[row_indexer,col_indexer] = value instead\n",
      "\n",
      "See the caveats in the documentation: https://pandas.pydata.org/pandas-docs/stable/user_guide/indexing.html#returning-a-view-versus-a-copy\n",
      "  fingers_data[distance_columns] = normalized_distances\n",
      "C:\\Users\\izaol\\PycharmProjects\\projektbigdata\\camera_prediction.py:219: SettingWithCopyWarning: \n",
      "A value is trying to be set on a copy of a slice from a DataFrame.\n",
      "Try using .loc[row_indexer,col_indexer] = value instead\n",
      "\n",
      "See the caveats in the documentation: https://pandas.pydata.org/pandas-docs/stable/user_guide/indexing.html#returning-a-view-versus-a-copy\n",
      "  fingers_data[place_columns] = normalized_place\n",
      "C:\\Users\\izaol\\PycharmProjects\\projektbigdata\\camera_prediction.py:217: SettingWithCopyWarning: \n",
      "A value is trying to be set on a copy of a slice from a DataFrame.\n",
      "Try using .loc[row_indexer,col_indexer] = value instead\n",
      "\n",
      "See the caveats in the documentation: https://pandas.pydata.org/pandas-docs/stable/user_guide/indexing.html#returning-a-view-versus-a-copy\n",
      "  fingers_data[angle_columns] = normalized_angles\n",
      "C:\\Users\\izaol\\PycharmProjects\\projektbigdata\\camera_prediction.py:218: SettingWithCopyWarning: \n",
      "A value is trying to be set on a copy of a slice from a DataFrame.\n",
      "Try using .loc[row_indexer,col_indexer] = value instead\n",
      "\n",
      "See the caveats in the documentation: https://pandas.pydata.org/pandas-docs/stable/user_guide/indexing.html#returning-a-view-versus-a-copy\n",
      "  fingers_data[distance_columns] = normalized_distances\n",
      "C:\\Users\\izaol\\PycharmProjects\\projektbigdata\\camera_prediction.py:219: SettingWithCopyWarning: \n",
      "A value is trying to be set on a copy of a slice from a DataFrame.\n",
      "Try using .loc[row_indexer,col_indexer] = value instead\n",
      "\n",
      "See the caveats in the documentation: https://pandas.pydata.org/pandas-docs/stable/user_guide/indexing.html#returning-a-view-versus-a-copy\n",
      "  fingers_data[place_columns] = normalized_place\n",
      "C:\\Users\\izaol\\PycharmProjects\\projektbigdata\\camera_prediction.py:217: SettingWithCopyWarning: \n",
      "A value is trying to be set on a copy of a slice from a DataFrame.\n",
      "Try using .loc[row_indexer,col_indexer] = value instead\n",
      "\n",
      "See the caveats in the documentation: https://pandas.pydata.org/pandas-docs/stable/user_guide/indexing.html#returning-a-view-versus-a-copy\n",
      "  fingers_data[angle_columns] = normalized_angles\n",
      "C:\\Users\\izaol\\PycharmProjects\\projektbigdata\\camera_prediction.py:218: SettingWithCopyWarning: \n",
      "A value is trying to be set on a copy of a slice from a DataFrame.\n",
      "Try using .loc[row_indexer,col_indexer] = value instead\n",
      "\n",
      "See the caveats in the documentation: https://pandas.pydata.org/pandas-docs/stable/user_guide/indexing.html#returning-a-view-versus-a-copy\n",
      "  fingers_data[distance_columns] = normalized_distances\n",
      "C:\\Users\\izaol\\PycharmProjects\\projektbigdata\\camera_prediction.py:219: SettingWithCopyWarning: \n",
      "A value is trying to be set on a copy of a slice from a DataFrame.\n",
      "Try using .loc[row_indexer,col_indexer] = value instead\n",
      "\n",
      "See the caveats in the documentation: https://pandas.pydata.org/pandas-docs/stable/user_guide/indexing.html#returning-a-view-versus-a-copy\n",
      "  fingers_data[place_columns] = normalized_place\n",
      "C:\\Users\\izaol\\PycharmProjects\\projektbigdata\\camera_prediction.py:217: SettingWithCopyWarning: \n",
      "A value is trying to be set on a copy of a slice from a DataFrame.\n",
      "Try using .loc[row_indexer,col_indexer] = value instead\n",
      "\n",
      "See the caveats in the documentation: https://pandas.pydata.org/pandas-docs/stable/user_guide/indexing.html#returning-a-view-versus-a-copy\n",
      "  fingers_data[angle_columns] = normalized_angles\n",
      "C:\\Users\\izaol\\PycharmProjects\\projektbigdata\\camera_prediction.py:218: SettingWithCopyWarning: \n",
      "A value is trying to be set on a copy of a slice from a DataFrame.\n",
      "Try using .loc[row_indexer,col_indexer] = value instead\n",
      "\n",
      "See the caveats in the documentation: https://pandas.pydata.org/pandas-docs/stable/user_guide/indexing.html#returning-a-view-versus-a-copy\n",
      "  fingers_data[distance_columns] = normalized_distances\n",
      "C:\\Users\\izaol\\PycharmProjects\\projektbigdata\\camera_prediction.py:219: SettingWithCopyWarning: \n",
      "A value is trying to be set on a copy of a slice from a DataFrame.\n",
      "Try using .loc[row_indexer,col_indexer] = value instead\n",
      "\n",
      "See the caveats in the documentation: https://pandas.pydata.org/pandas-docs/stable/user_guide/indexing.html#returning-a-view-versus-a-copy\n",
      "  fingers_data[place_columns] = normalized_place\n",
      "C:\\Users\\izaol\\PycharmProjects\\projektbigdata\\camera_prediction.py:217: SettingWithCopyWarning: \n",
      "A value is trying to be set on a copy of a slice from a DataFrame.\n",
      "Try using .loc[row_indexer,col_indexer] = value instead\n",
      "\n",
      "See the caveats in the documentation: https://pandas.pydata.org/pandas-docs/stable/user_guide/indexing.html#returning-a-view-versus-a-copy\n",
      "  fingers_data[angle_columns] = normalized_angles\n",
      "C:\\Users\\izaol\\PycharmProjects\\projektbigdata\\camera_prediction.py:218: SettingWithCopyWarning: \n",
      "A value is trying to be set on a copy of a slice from a DataFrame.\n",
      "Try using .loc[row_indexer,col_indexer] = value instead\n",
      "\n",
      "See the caveats in the documentation: https://pandas.pydata.org/pandas-docs/stable/user_guide/indexing.html#returning-a-view-versus-a-copy\n",
      "  fingers_data[distance_columns] = normalized_distances\n",
      "C:\\Users\\izaol\\PycharmProjects\\projektbigdata\\camera_prediction.py:219: SettingWithCopyWarning: \n",
      "A value is trying to be set on a copy of a slice from a DataFrame.\n",
      "Try using .loc[row_indexer,col_indexer] = value instead\n",
      "\n",
      "See the caveats in the documentation: https://pandas.pydata.org/pandas-docs/stable/user_guide/indexing.html#returning-a-view-versus-a-copy\n",
      "  fingers_data[place_columns] = normalized_place\n",
      "C:\\Users\\izaol\\PycharmProjects\\projektbigdata\\camera_prediction.py:217: SettingWithCopyWarning: \n",
      "A value is trying to be set on a copy of a slice from a DataFrame.\n",
      "Try using .loc[row_indexer,col_indexer] = value instead\n",
      "\n",
      "See the caveats in the documentation: https://pandas.pydata.org/pandas-docs/stable/user_guide/indexing.html#returning-a-view-versus-a-copy\n",
      "  fingers_data[angle_columns] = normalized_angles\n",
      "C:\\Users\\izaol\\PycharmProjects\\projektbigdata\\camera_prediction.py:218: SettingWithCopyWarning: \n",
      "A value is trying to be set on a copy of a slice from a DataFrame.\n",
      "Try using .loc[row_indexer,col_indexer] = value instead\n",
      "\n",
      "See the caveats in the documentation: https://pandas.pydata.org/pandas-docs/stable/user_guide/indexing.html#returning-a-view-versus-a-copy\n",
      "  fingers_data[distance_columns] = normalized_distances\n",
      "C:\\Users\\izaol\\PycharmProjects\\projektbigdata\\camera_prediction.py:219: SettingWithCopyWarning: \n",
      "A value is trying to be set on a copy of a slice from a DataFrame.\n",
      "Try using .loc[row_indexer,col_indexer] = value instead\n",
      "\n",
      "See the caveats in the documentation: https://pandas.pydata.org/pandas-docs/stable/user_guide/indexing.html#returning-a-view-versus-a-copy\n",
      "  fingers_data[place_columns] = normalized_place\n",
      "C:\\Users\\izaol\\PycharmProjects\\projektbigdata\\camera_prediction.py:217: SettingWithCopyWarning: \n",
      "A value is trying to be set on a copy of a slice from a DataFrame.\n",
      "Try using .loc[row_indexer,col_indexer] = value instead\n",
      "\n",
      "See the caveats in the documentation: https://pandas.pydata.org/pandas-docs/stable/user_guide/indexing.html#returning-a-view-versus-a-copy\n",
      "  fingers_data[angle_columns] = normalized_angles\n",
      "C:\\Users\\izaol\\PycharmProjects\\projektbigdata\\camera_prediction.py:218: SettingWithCopyWarning: \n",
      "A value is trying to be set on a copy of a slice from a DataFrame.\n",
      "Try using .loc[row_indexer,col_indexer] = value instead\n",
      "\n",
      "See the caveats in the documentation: https://pandas.pydata.org/pandas-docs/stable/user_guide/indexing.html#returning-a-view-versus-a-copy\n",
      "  fingers_data[distance_columns] = normalized_distances\n",
      "C:\\Users\\izaol\\PycharmProjects\\projektbigdata\\camera_prediction.py:219: SettingWithCopyWarning: \n",
      "A value is trying to be set on a copy of a slice from a DataFrame.\n",
      "Try using .loc[row_indexer,col_indexer] = value instead\n",
      "\n",
      "See the caveats in the documentation: https://pandas.pydata.org/pandas-docs/stable/user_guide/indexing.html#returning-a-view-versus-a-copy\n",
      "  fingers_data[place_columns] = normalized_place\n",
      "C:\\Users\\izaol\\PycharmProjects\\projektbigdata\\camera_prediction.py:217: SettingWithCopyWarning: \n",
      "A value is trying to be set on a copy of a slice from a DataFrame.\n",
      "Try using .loc[row_indexer,col_indexer] = value instead\n",
      "\n",
      "See the caveats in the documentation: https://pandas.pydata.org/pandas-docs/stable/user_guide/indexing.html#returning-a-view-versus-a-copy\n",
      "  fingers_data[angle_columns] = normalized_angles\n",
      "C:\\Users\\izaol\\PycharmProjects\\projektbigdata\\camera_prediction.py:218: SettingWithCopyWarning: \n",
      "A value is trying to be set on a copy of a slice from a DataFrame.\n",
      "Try using .loc[row_indexer,col_indexer] = value instead\n",
      "\n",
      "See the caveats in the documentation: https://pandas.pydata.org/pandas-docs/stable/user_guide/indexing.html#returning-a-view-versus-a-copy\n",
      "  fingers_data[distance_columns] = normalized_distances\n",
      "C:\\Users\\izaol\\PycharmProjects\\projektbigdata\\camera_prediction.py:219: SettingWithCopyWarning: \n",
      "A value is trying to be set on a copy of a slice from a DataFrame.\n",
      "Try using .loc[row_indexer,col_indexer] = value instead\n",
      "\n",
      "See the caveats in the documentation: https://pandas.pydata.org/pandas-docs/stable/user_guide/indexing.html#returning-a-view-versus-a-copy\n",
      "  fingers_data[place_columns] = normalized_place\n",
      "C:\\Users\\izaol\\PycharmProjects\\projektbigdata\\camera_prediction.py:217: SettingWithCopyWarning: \n",
      "A value is trying to be set on a copy of a slice from a DataFrame.\n",
      "Try using .loc[row_indexer,col_indexer] = value instead\n",
      "\n",
      "See the caveats in the documentation: https://pandas.pydata.org/pandas-docs/stable/user_guide/indexing.html#returning-a-view-versus-a-copy\n",
      "  fingers_data[angle_columns] = normalized_angles\n",
      "C:\\Users\\izaol\\PycharmProjects\\projektbigdata\\camera_prediction.py:218: SettingWithCopyWarning: \n",
      "A value is trying to be set on a copy of a slice from a DataFrame.\n",
      "Try using .loc[row_indexer,col_indexer] = value instead\n",
      "\n",
      "See the caveats in the documentation: https://pandas.pydata.org/pandas-docs/stable/user_guide/indexing.html#returning-a-view-versus-a-copy\n",
      "  fingers_data[distance_columns] = normalized_distances\n",
      "C:\\Users\\izaol\\PycharmProjects\\projektbigdata\\camera_prediction.py:219: SettingWithCopyWarning: \n",
      "A value is trying to be set on a copy of a slice from a DataFrame.\n",
      "Try using .loc[row_indexer,col_indexer] = value instead\n",
      "\n",
      "See the caveats in the documentation: https://pandas.pydata.org/pandas-docs/stable/user_guide/indexing.html#returning-a-view-versus-a-copy\n",
      "  fingers_data[place_columns] = normalized_place\n",
      "C:\\Users\\izaol\\PycharmProjects\\projektbigdata\\camera_prediction.py:217: SettingWithCopyWarning: \n",
      "A value is trying to be set on a copy of a slice from a DataFrame.\n",
      "Try using .loc[row_indexer,col_indexer] = value instead\n",
      "\n",
      "See the caveats in the documentation: https://pandas.pydata.org/pandas-docs/stable/user_guide/indexing.html#returning-a-view-versus-a-copy\n",
      "  fingers_data[angle_columns] = normalized_angles\n",
      "C:\\Users\\izaol\\PycharmProjects\\projektbigdata\\camera_prediction.py:218: SettingWithCopyWarning: \n",
      "A value is trying to be set on a copy of a slice from a DataFrame.\n",
      "Try using .loc[row_indexer,col_indexer] = value instead\n",
      "\n",
      "See the caveats in the documentation: https://pandas.pydata.org/pandas-docs/stable/user_guide/indexing.html#returning-a-view-versus-a-copy\n",
      "  fingers_data[distance_columns] = normalized_distances\n",
      "C:\\Users\\izaol\\PycharmProjects\\projektbigdata\\camera_prediction.py:219: SettingWithCopyWarning: \n",
      "A value is trying to be set on a copy of a slice from a DataFrame.\n",
      "Try using .loc[row_indexer,col_indexer] = value instead\n",
      "\n",
      "See the caveats in the documentation: https://pandas.pydata.org/pandas-docs/stable/user_guide/indexing.html#returning-a-view-versus-a-copy\n",
      "  fingers_data[place_columns] = normalized_place\n",
      "C:\\Users\\izaol\\PycharmProjects\\projektbigdata\\camera_prediction.py:217: SettingWithCopyWarning: \n",
      "A value is trying to be set on a copy of a slice from a DataFrame.\n",
      "Try using .loc[row_indexer,col_indexer] = value instead\n",
      "\n",
      "See the caveats in the documentation: https://pandas.pydata.org/pandas-docs/stable/user_guide/indexing.html#returning-a-view-versus-a-copy\n",
      "  fingers_data[angle_columns] = normalized_angles\n",
      "C:\\Users\\izaol\\PycharmProjects\\projektbigdata\\camera_prediction.py:218: SettingWithCopyWarning: \n",
      "A value is trying to be set on a copy of a slice from a DataFrame.\n",
      "Try using .loc[row_indexer,col_indexer] = value instead\n",
      "\n",
      "See the caveats in the documentation: https://pandas.pydata.org/pandas-docs/stable/user_guide/indexing.html#returning-a-view-versus-a-copy\n",
      "  fingers_data[distance_columns] = normalized_distances\n",
      "C:\\Users\\izaol\\PycharmProjects\\projektbigdata\\camera_prediction.py:219: SettingWithCopyWarning: \n",
      "A value is trying to be set on a copy of a slice from a DataFrame.\n",
      "Try using .loc[row_indexer,col_indexer] = value instead\n",
      "\n",
      "See the caveats in the documentation: https://pandas.pydata.org/pandas-docs/stable/user_guide/indexing.html#returning-a-view-versus-a-copy\n",
      "  fingers_data[place_columns] = normalized_place\n",
      "C:\\Users\\izaol\\PycharmProjects\\projektbigdata\\camera_prediction.py:217: SettingWithCopyWarning: \n",
      "A value is trying to be set on a copy of a slice from a DataFrame.\n",
      "Try using .loc[row_indexer,col_indexer] = value instead\n",
      "\n",
      "See the caveats in the documentation: https://pandas.pydata.org/pandas-docs/stable/user_guide/indexing.html#returning-a-view-versus-a-copy\n",
      "  fingers_data[angle_columns] = normalized_angles\n",
      "C:\\Users\\izaol\\PycharmProjects\\projektbigdata\\camera_prediction.py:218: SettingWithCopyWarning: \n",
      "A value is trying to be set on a copy of a slice from a DataFrame.\n",
      "Try using .loc[row_indexer,col_indexer] = value instead\n",
      "\n",
      "See the caveats in the documentation: https://pandas.pydata.org/pandas-docs/stable/user_guide/indexing.html#returning-a-view-versus-a-copy\n",
      "  fingers_data[distance_columns] = normalized_distances\n",
      "C:\\Users\\izaol\\PycharmProjects\\projektbigdata\\camera_prediction.py:219: SettingWithCopyWarning: \n",
      "A value is trying to be set on a copy of a slice from a DataFrame.\n",
      "Try using .loc[row_indexer,col_indexer] = value instead\n",
      "\n",
      "See the caveats in the documentation: https://pandas.pydata.org/pandas-docs/stable/user_guide/indexing.html#returning-a-view-versus-a-copy\n",
      "  fingers_data[place_columns] = normalized_place\n",
      "C:\\Users\\izaol\\PycharmProjects\\projektbigdata\\camera_prediction.py:217: SettingWithCopyWarning: \n",
      "A value is trying to be set on a copy of a slice from a DataFrame.\n",
      "Try using .loc[row_indexer,col_indexer] = value instead\n",
      "\n",
      "See the caveats in the documentation: https://pandas.pydata.org/pandas-docs/stable/user_guide/indexing.html#returning-a-view-versus-a-copy\n",
      "  fingers_data[angle_columns] = normalized_angles\n",
      "C:\\Users\\izaol\\PycharmProjects\\projektbigdata\\camera_prediction.py:218: SettingWithCopyWarning: \n",
      "A value is trying to be set on a copy of a slice from a DataFrame.\n",
      "Try using .loc[row_indexer,col_indexer] = value instead\n",
      "\n",
      "See the caveats in the documentation: https://pandas.pydata.org/pandas-docs/stable/user_guide/indexing.html#returning-a-view-versus-a-copy\n",
      "  fingers_data[distance_columns] = normalized_distances\n",
      "C:\\Users\\izaol\\PycharmProjects\\projektbigdata\\camera_prediction.py:219: SettingWithCopyWarning: \n",
      "A value is trying to be set on a copy of a slice from a DataFrame.\n",
      "Try using .loc[row_indexer,col_indexer] = value instead\n",
      "\n",
      "See the caveats in the documentation: https://pandas.pydata.org/pandas-docs/stable/user_guide/indexing.html#returning-a-view-versus-a-copy\n",
      "  fingers_data[place_columns] = normalized_place\n",
      "C:\\Users\\izaol\\PycharmProjects\\projektbigdata\\camera_prediction.py:217: SettingWithCopyWarning: \n",
      "A value is trying to be set on a copy of a slice from a DataFrame.\n",
      "Try using .loc[row_indexer,col_indexer] = value instead\n",
      "\n",
      "See the caveats in the documentation: https://pandas.pydata.org/pandas-docs/stable/user_guide/indexing.html#returning-a-view-versus-a-copy\n",
      "  fingers_data[angle_columns] = normalized_angles\n",
      "C:\\Users\\izaol\\PycharmProjects\\projektbigdata\\camera_prediction.py:218: SettingWithCopyWarning: \n",
      "A value is trying to be set on a copy of a slice from a DataFrame.\n",
      "Try using .loc[row_indexer,col_indexer] = value instead\n",
      "\n",
      "See the caveats in the documentation: https://pandas.pydata.org/pandas-docs/stable/user_guide/indexing.html#returning-a-view-versus-a-copy\n",
      "  fingers_data[distance_columns] = normalized_distances\n",
      "C:\\Users\\izaol\\PycharmProjects\\projektbigdata\\camera_prediction.py:219: SettingWithCopyWarning: \n",
      "A value is trying to be set on a copy of a slice from a DataFrame.\n",
      "Try using .loc[row_indexer,col_indexer] = value instead\n",
      "\n",
      "See the caveats in the documentation: https://pandas.pydata.org/pandas-docs/stable/user_guide/indexing.html#returning-a-view-versus-a-copy\n",
      "  fingers_data[place_columns] = normalized_place\n",
      "C:\\Users\\izaol\\PycharmProjects\\projektbigdata\\camera_prediction.py:217: SettingWithCopyWarning: \n",
      "A value is trying to be set on a copy of a slice from a DataFrame.\n",
      "Try using .loc[row_indexer,col_indexer] = value instead\n",
      "\n",
      "See the caveats in the documentation: https://pandas.pydata.org/pandas-docs/stable/user_guide/indexing.html#returning-a-view-versus-a-copy\n",
      "  fingers_data[angle_columns] = normalized_angles\n",
      "C:\\Users\\izaol\\PycharmProjects\\projektbigdata\\camera_prediction.py:218: SettingWithCopyWarning: \n",
      "A value is trying to be set on a copy of a slice from a DataFrame.\n",
      "Try using .loc[row_indexer,col_indexer] = value instead\n",
      "\n",
      "See the caveats in the documentation: https://pandas.pydata.org/pandas-docs/stable/user_guide/indexing.html#returning-a-view-versus-a-copy\n",
      "  fingers_data[distance_columns] = normalized_distances\n",
      "C:\\Users\\izaol\\PycharmProjects\\projektbigdata\\camera_prediction.py:219: SettingWithCopyWarning: \n",
      "A value is trying to be set on a copy of a slice from a DataFrame.\n",
      "Try using .loc[row_indexer,col_indexer] = value instead\n",
      "\n",
      "See the caveats in the documentation: https://pandas.pydata.org/pandas-docs/stable/user_guide/indexing.html#returning-a-view-versus-a-copy\n",
      "  fingers_data[place_columns] = normalized_place\n",
      "C:\\Users\\izaol\\PycharmProjects\\projektbigdata\\camera_prediction.py:217: SettingWithCopyWarning: \n",
      "A value is trying to be set on a copy of a slice from a DataFrame.\n",
      "Try using .loc[row_indexer,col_indexer] = value instead\n",
      "\n",
      "See the caveats in the documentation: https://pandas.pydata.org/pandas-docs/stable/user_guide/indexing.html#returning-a-view-versus-a-copy\n",
      "  fingers_data[angle_columns] = normalized_angles\n",
      "C:\\Users\\izaol\\PycharmProjects\\projektbigdata\\camera_prediction.py:218: SettingWithCopyWarning: \n",
      "A value is trying to be set on a copy of a slice from a DataFrame.\n",
      "Try using .loc[row_indexer,col_indexer] = value instead\n",
      "\n",
      "See the caveats in the documentation: https://pandas.pydata.org/pandas-docs/stable/user_guide/indexing.html#returning-a-view-versus-a-copy\n",
      "  fingers_data[distance_columns] = normalized_distances\n",
      "C:\\Users\\izaol\\PycharmProjects\\projektbigdata\\camera_prediction.py:219: SettingWithCopyWarning: \n",
      "A value is trying to be set on a copy of a slice from a DataFrame.\n",
      "Try using .loc[row_indexer,col_indexer] = value instead\n",
      "\n",
      "See the caveats in the documentation: https://pandas.pydata.org/pandas-docs/stable/user_guide/indexing.html#returning-a-view-versus-a-copy\n",
      "  fingers_data[place_columns] = normalized_place\n",
      "C:\\Users\\izaol\\PycharmProjects\\projektbigdata\\camera_prediction.py:217: SettingWithCopyWarning: \n",
      "A value is trying to be set on a copy of a slice from a DataFrame.\n",
      "Try using .loc[row_indexer,col_indexer] = value instead\n",
      "\n",
      "See the caveats in the documentation: https://pandas.pydata.org/pandas-docs/stable/user_guide/indexing.html#returning-a-view-versus-a-copy\n",
      "  fingers_data[angle_columns] = normalized_angles\n",
      "C:\\Users\\izaol\\PycharmProjects\\projektbigdata\\camera_prediction.py:218: SettingWithCopyWarning: \n",
      "A value is trying to be set on a copy of a slice from a DataFrame.\n",
      "Try using .loc[row_indexer,col_indexer] = value instead\n",
      "\n",
      "See the caveats in the documentation: https://pandas.pydata.org/pandas-docs/stable/user_guide/indexing.html#returning-a-view-versus-a-copy\n",
      "  fingers_data[distance_columns] = normalized_distances\n",
      "C:\\Users\\izaol\\PycharmProjects\\projektbigdata\\camera_prediction.py:219: SettingWithCopyWarning: \n",
      "A value is trying to be set on a copy of a slice from a DataFrame.\n",
      "Try using .loc[row_indexer,col_indexer] = value instead\n",
      "\n",
      "See the caveats in the documentation: https://pandas.pydata.org/pandas-docs/stable/user_guide/indexing.html#returning-a-view-versus-a-copy\n",
      "  fingers_data[place_columns] = normalized_place\n",
      "C:\\Users\\izaol\\PycharmProjects\\projektbigdata\\camera_prediction.py:217: SettingWithCopyWarning: \n",
      "A value is trying to be set on a copy of a slice from a DataFrame.\n",
      "Try using .loc[row_indexer,col_indexer] = value instead\n",
      "\n",
      "See the caveats in the documentation: https://pandas.pydata.org/pandas-docs/stable/user_guide/indexing.html#returning-a-view-versus-a-copy\n",
      "  fingers_data[angle_columns] = normalized_angles\n",
      "C:\\Users\\izaol\\PycharmProjects\\projektbigdata\\camera_prediction.py:218: SettingWithCopyWarning: \n",
      "A value is trying to be set on a copy of a slice from a DataFrame.\n",
      "Try using .loc[row_indexer,col_indexer] = value instead\n",
      "\n",
      "See the caveats in the documentation: https://pandas.pydata.org/pandas-docs/stable/user_guide/indexing.html#returning-a-view-versus-a-copy\n",
      "  fingers_data[distance_columns] = normalized_distances\n",
      "C:\\Users\\izaol\\PycharmProjects\\projektbigdata\\camera_prediction.py:219: SettingWithCopyWarning: \n",
      "A value is trying to be set on a copy of a slice from a DataFrame.\n",
      "Try using .loc[row_indexer,col_indexer] = value instead\n",
      "\n",
      "See the caveats in the documentation: https://pandas.pydata.org/pandas-docs/stable/user_guide/indexing.html#returning-a-view-versus-a-copy\n",
      "  fingers_data[place_columns] = normalized_place\n"
     ]
    }
   ],
   "source": [
    "list_time_svm = []\n",
    "time_sum_svm = 0\n",
    "    \n",
    "for _ in range(20):\n",
    "    \n",
    "    start_time = time.time()\n",
    "    result, data_, time_ = count_result(data, svm_model)\n",
    "    end_time = time.time()\n",
    "\n",
    "    time_result = end_time - start_time - time_\n",
    "    \n",
    "    list_time_svm.append(time_result)\n",
    "    time_sum_svm += time_result"
   ],
   "metadata": {
    "collapsed": false,
    "ExecuteTime": {
     "end_time": "2024-06-02T13:52:03.215042600Z",
     "start_time": "2024-06-02T13:51:54.696691100Z"
    }
   },
   "id": "cbf8d464c6e6530e"
  },
  {
   "cell_type": "markdown",
   "source": [
    "# Show results"
   ],
   "metadata": {
    "collapsed": false
   },
   "id": "9224a8c43473cb01"
  },
  {
   "cell_type": "markdown",
   "source": [
    "# Visualising results"
   ],
   "metadata": {
    "collapsed": false
   },
   "id": "1d8a396739c6c9ef"
  },
  {
   "cell_type": "code",
   "execution_count": 13,
   "outputs": [
    {
     "data": {
      "text/plain": "<Figure size 1500x500 with 3 Axes>",
      "image/png": "[encoded data removed]"
     },
     "metadata": {},
     "output_type": "display_data"
    }
   ],
   "source": [
    "model_names = ['simple_hod_cnn', 'A_hog_cnn', 'A_log_cnn', 'A_gray_cnn', 'svm']\n",
    "\n",
    "plt.figure(figsize=(15, 5))\n",
    "plt.subplot(1, 3, 1)\n",
    "for times, name in zip([list_time_sh, list_time_ah, list_time_al, list_time_ag, list_time_svm], model_names):\n",
    "    plt.plot(times, label=name)\n",
    "plt.xlabel('Indeks')\n",
    "plt.ylabel('Czas')\n",
    "plt.legend()\n",
    "plt.title('Listy czasów dla każdego modelu')\n",
    "\n",
    "mean_times = [np.mean(times) for times in [list_time_sh, list_time_ah, list_time_al, list_time_ag, list_time_svm]]\n",
    "\n",
    "plt.subplot(1, 3, 2)\n",
    "plt.bar(model_names, mean_times, color=['blue', 'orange', 'green', 'red', 'purple'])\n",
    "plt.xlabel('Model')\n",
    "plt.ylabel('Średni czas')\n",
    "plt.title('Średni czas dla każdego modelu')\n",
    "\n",
    "total_times = [time_sum_sh, time_sum_ah, time_sum_al, time_sum_ag, time_sum_svm]\n",
    "\n",
    "plt.subplot(1, 3, 3)\n",
    "plt.bar(model_names, total_times, color=['blue', 'orange', 'green', 'red', 'purple'])\n",
    "plt.xlabel('Model')\n",
    "plt.ylabel('Całkowity czas')\n",
    "plt.title('Całkowity czas dla każdego modelu')\n",
    "\n",
    "plt.tight_layout()\n",
    "plt.show()"
   ],
   "metadata": {
    "collapsed": false,
    "ExecuteTime": {
     "end_time": "2024-06-02T13:52:04.066972100Z",
     "start_time": "2024-06-02T13:52:03.218034900Z"
    }
   },
   "id": "3493a2640d9f1a0f"
  }
 ],
 "metadata": {
  "kernelspec": {
   "display_name": "Python 3",
   "language": "python",
   "name": "python3"
  },
  "language_info": {
   "codemirror_mode": {
    "name": "ipython",
    "version": 2
   },
   "file_extension": ".py",
   "mimetype": "text/x-python",
   "name": "python",
   "nbconvert_exporter": "python",
   "pygments_lexer": "ipython2",
   "version": "2.7.6"
  }
 },
 "nbformat": 4,
 "nbformat_minor": 5
}
